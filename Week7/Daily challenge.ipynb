{
 "cells": [
  {
   "cell_type": "code",
   "execution_count": 6,
   "id": "6efb3415",
   "metadata": {},
   "outputs": [],
   "source": [
    "import numpy as np"
   ]
  },
  {
   "cell_type": "code",
   "execution_count": 7,
   "id": "ec03e6f7",
   "metadata": {},
   "outputs": [],
   "source": [
    "n = 30\n",
    "m = 40"
   ]
  },
  {
   "cell_type": "code",
   "execution_count": 8,
   "id": "9b471acb",
   "metadata": {},
   "outputs": [],
   "source": [
    "two_dim_matrix = np.random.randint(1,100,(m, n))"
   ]
  },
  {
   "cell_type": "code",
   "execution_count": 10,
   "id": "58553ba6",
   "metadata": {},
   "outputs": [
    {
     "data": {
      "text/plain": [
       "array([76, 65, 76, 35,  2, 48, 18, 35, 29, 48, 48, 42, 18, 64, 87, 67, 90,\n",
       "       91, 19, 45, 32, 73, 71, 55, 54, 73, 35, 22, 91, 21])"
      ]
     },
     "execution_count": 10,
     "metadata": {},
     "output_type": "execute_result"
    }
   ],
   "source": [
    "two_dim_matrix[1]"
   ]
  },
  {
   "cell_type": "code",
   "execution_count": 11,
   "id": "10a4fcfb",
   "metadata": {},
   "outputs": [],
   "source": [
    "third_column = two_dim_matrix [:,2]"
   ]
  },
  {
   "cell_type": "code",
   "execution_count": 12,
   "id": "eaac5c58",
   "metadata": {},
   "outputs": [
    {
     "data": {
      "text/plain": [
       "array([35, 76, 57, 11, 87,  3, 22, 20, 47, 93,  1, 69, 75, 39, 25, 57,  1,\n",
       "        5, 39, 89, 47, 54, 15, 37,  9, 77, 83, 20, 25, 87, 92, 40, 57, 58,\n",
       "       15, 68, 59, 70, 89, 47])"
      ]
     },
     "execution_count": 12,
     "metadata": {},
     "output_type": "execute_result"
    }
   ],
   "source": [
    "third_column"
   ]
  },
  {
   "cell_type": "code",
   "execution_count": 14,
   "id": "4addbb3a",
   "metadata": {},
   "outputs": [],
   "source": [
    "two_dim_matrix[-1]=7"
   ]
  },
  {
   "cell_type": "code",
   "execution_count": 16,
   "id": "41de06e1",
   "metadata": {},
   "outputs": [
    {
     "data": {
      "text/plain": [
       "array([7, 7, 7, 7, 7, 7, 7, 7, 7, 7, 7, 7, 7, 7, 7, 7, 7, 7, 7, 7, 7, 7,\n",
       "       7, 7, 7, 7, 7, 7, 7, 7])"
      ]
     },
     "execution_count": 16,
     "metadata": {},
     "output_type": "execute_result"
    }
   ],
   "source": [
    "two_dim_matrix[-1]"
   ]
  },
  {
   "cell_type": "code",
   "execution_count": 17,
   "id": "f6f27f79",
   "metadata": {},
   "outputs": [],
   "source": [
    "two_dim_matrix[:,-1] = two_dim_matrix[:,0] + two_dim_matrix[:,1]"
   ]
  },
  {
   "cell_type": "code",
   "execution_count": 19,
   "id": "bef466a9",
   "metadata": {},
   "outputs": [
    {
     "data": {
      "text/plain": [
       "array([[ 10,  59,  35, ...,  51,  77,  69],\n",
       "       [ 76,  65,  76, ...,  22,  91, 141],\n",
       "       [ 95,   3,  57, ...,  57,  96,  98],\n",
       "       ...,\n",
       "       [ 11,  43,  70, ...,   4,  74,  54],\n",
       "       [ 11,  43,  89, ...,  45,  34,  54],\n",
       "       [  7,   7,   7, ...,   7,   7,  14]])"
      ]
     },
     "execution_count": 19,
     "metadata": {},
     "output_type": "execute_result"
    }
   ],
   "source": [
    "two_dim_matrix"
   ]
  },
  {
   "cell_type": "code",
   "execution_count": null,
   "id": "57e0f9e9",
   "metadata": {},
   "outputs": [],
   "source": []
  }
 ],
 "metadata": {
  "kernelspec": {
   "display_name": "Python 3 (ipykernel)",
   "language": "python",
   "name": "python3"
  },
  "language_info": {
   "codemirror_mode": {
    "name": "ipython",
    "version": 3
   },
   "file_extension": ".py",
   "mimetype": "text/x-python",
   "name": "python",
   "nbconvert_exporter": "python",
   "pygments_lexer": "ipython3",
   "version": "3.8.9"
  }
 },
 "nbformat": 4,
 "nbformat_minor": 5
}
